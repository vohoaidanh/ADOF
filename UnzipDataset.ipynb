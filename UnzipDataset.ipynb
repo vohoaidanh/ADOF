{
 "cells": [
  {
   "cell_type": "code",
   "execution_count": 1,
   "id": "3e2e96e7-30f3-4c71-bb18-41009065fba3",
   "metadata": {},
   "outputs": [],
   "source": [
    "!mkdir /workspace/datasets\n",
    "!mkdir /workspace/datasets/ForenSynths_train\n",
    "!unzip -q /workspace/ForenSynths_train_val_24000.zip -d /workspace/datasets/ForenSynths_train\n"
   ]
  },
  {
   "cell_type": "code",
   "execution_count": 2,
   "id": "16f35262-f008-4e76-b842-b5a312e50d19",
   "metadata": {},
   "outputs": [],
   "source": [
    "!unzip -q /workspace/ForenSynths_test.zip -d /workspace/datasets/ForenSynths_train/test"
   ]
  },
  {
   "cell_type": "code",
   "execution_count": null,
   "id": "06ad157f-ec91-4652-bfa6-43c98bbd282d",
   "metadata": {},
   "outputs": [],
   "source": []
  }
 ],
 "metadata": {
  "kernelspec": {
   "display_name": "Python 3 (ipykernel)",
   "language": "python",
   "name": "python3"
  },
  "language_info": {
   "codemirror_mode": {
    "name": "ipython",
    "version": 3
   },
   "file_extension": ".py",
   "mimetype": "text/x-python",
   "name": "python",
   "nbconvert_exporter": "python",
   "pygments_lexer": "ipython3",
   "version": "3.10.13"
  }
 },
 "nbformat": 4,
 "nbformat_minor": 5
}
