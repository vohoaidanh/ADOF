{
 "cells": [
  {
   "cell_type": "markdown",
   "metadata": {
    "id": "4bsPZQKgE3tX"
   },
   "source": [
    "## AIGCDetectBenchmark\n"
   ]
  },
  {
   "cell_type": "markdown",
   "metadata": {
    "id": "ZiHwX8vIN8xm"
   },
   "source": [
    "## Install requirement"
   ]
  },
  {
   "cell_type": "code",
   "execution_count": null,
   "metadata": {
    "colab": {
     "base_uri": "https://localhost:8080/"
    },
    "id": "zedAZuw9N8xo",
    "outputId": "326bfcb1-2cf6-4527-c670-df89d7040a0f"
   },
   "outputs": [],
   "source": [
    "!git clone https://github.com/vohoaidanh/ADOF.git"
   ]
  },
  {
   "cell_type": "code",
   "execution_count": null,
   "metadata": {
    "id": "diL52UgAPQSZ"
   },
   "outputs": [],
   "source": [
    "%cd ADOF"
   ]
  },
  {
   "cell_type": "code",
   "execution_count": null,
   "metadata": {},
   "outputs": [],
   "source": [
    "!git checkout exp/backbones"
   ]
  },
  {
   "cell_type": "code",
   "execution_count": null,
   "metadata": {},
   "outputs": [],
   "source": [
    "!pip install timm"
   ]
  },
  {
   "cell_type": "code",
   "execution_count": null,
   "metadata": {
    "id": "yZtRWDeMing8",
    "scrolled": true
   },
   "outputs": [],
   "source": [
    "!pip install -r requirements.txt\n",
    "!pip install tensorboardX -q\n"
   ]
  },
  {
   "cell_type": "code",
   "execution_count": null,
   "metadata": {
    "id": "zETSn3yrN8xq",
    "scrolled": true
   },
   "outputs": [],
   "source": [
    "# Without google colab\n",
    "!pip install gdown -q\n",
    "!apt-get install -y unzip -q\n",
    "!apt-get install -y zip -q\n",
    "!pip install tensorboardX -q\n",
    "!pip install regex -q\n",
    "!pip install imageio -q\n",
    "!pip install opencv-python -q\n",
    "!apt-get install -y libgl1-mesa-glx -q\n",
    "!pip install scikit-learn -q\n",
    "!pip install scikit-image -q\n",
    "!pip install ftfy -q\n",
    "!pip install natsort -q\n",
    "!pip install blobfile -q"
   ]
  },
  {
   "cell_type": "markdown",
   "metadata": {
    "id": "KFlXRww3Pk8G"
   },
   "source": [
    "## Download Data"
   ]
  },
  {
   "cell_type": "code",
   "execution_count": null,
   "metadata": {
    "id": "MHqGlQRbQNE3"
   },
   "outputs": [],
   "source": [
    "#Download Train, val set\n",
    "import gdown\n",
    "file_id = '1xHhCcCWtv57tnlAKh5sLSofuzcZcFfsP' #Progan train/val 4 class [car, cat, chair, horse]\n",
    "#file_id = '1cyGbozooewAt6pNH9gw2_sDMM-Locqh2' #Progan train/val 4 class [car, cat, chair, horse]\n",
    "destination = '/workspace/Progan_train.zip'  # Desired file name and extension\n",
    "# Construct the download URL\n",
    "url = f'https://drive.google.com/uc?id={file_id}'\n",
    "# Download the file\n",
    "gdown.download(url, destination, quiet=False)\n",
    "#Unzip\n",
    "!mkdir /workspace/datasets\n",
    "!unzip -q $destination -d /workspace/datasets/ForenSynths_train"
   ]
  },
  {
   "cell_type": "code",
   "execution_count": null,
   "metadata": {
    "id": "YEJ2C7IoQ5co"
   },
   "outputs": [],
   "source": [
    "#Download small Test set (this is a small testset just use for reference during training)\n",
    "import gdown\n",
    "file_id = '1-02FPvdTaQFDMatEvXAeKLCmnwW6RLx4' #test_set\n",
    "destination = '/content/test_set.zip'  # Desired file name and extension\n",
    "# Construct the download URL\n",
    "url = f'https://drive.google.com/uc?id={file_id}'\n",
    "# Download the file\n",
    "gdown.download(url, destination, quiet=False)\n",
    "#Unzip\n",
    "!mkdir /content/datasets\n",
    "!unzip -q $destination -d /content/datasets/ForenSynths_train/test"
   ]
  },
  {
   "cell_type": "markdown",
   "metadata": {
    "id": "5zY128DjN8xt"
   },
   "source": [
    "## Train"
   ]
  },
  {
   "cell_type": "code",
   "execution_count": null,
   "metadata": {
    "colab": {
     "base_uri": "https://localhost:8080/"
    },
    "id": "0tTnMSRWN8xu",
    "outputId": "d434bede-473d-4c9d-ecfe-a577a444be70",
    "scrolled": true
   },
   "outputs": [],
   "source": [
    "#experiment-01-no-filter\n",
    "!find /workspace/datasets -type d -name \"*ipynb*\" -exec rm -r {} +\n",
    "!python train.py \\\n",
    "--name adof-fastvit_sa24- \\\n",
    "--dataroot /workspace/datasets/ForenSynths_train \\\n",
    "--num_thread 2 \\\n",
    "--classes car,cat,chair,horse --batch_size 32 --delr_freq 5 --lr 0.0002 --niter 5"
   ]
  },
  {
   "cell_type": "markdown",
   "metadata": {
    "id": "TW0ofv3qTkZa"
   },
   "source": [
    "## Evaluation"
   ]
  },
  {
   "cell_type": "code",
   "execution_count": null,
   "metadata": {
    "id": "wD2QXOfFTjZQ",
    "scrolled": true
   },
   "outputs": [],
   "source": [
    "# You should update the test set directory in the \"test.py\" file.\n",
    "!find /workspace/datasets -type d -name \"*ipynb*\" -exec rm -r {} +\n",
    "!python test.py \\\n",
    "--model_path /workspace/model_vit_base_patch16_224_best_3.pth  \\\n",
    "--num_thread 4 \\\n",
    "--batch_size 32"
   ]
  },
  {
   "cell_type": "code",
   "execution_count": null,
   "metadata": {
    "scrolled": true
   },
   "outputs": [],
   "source": [
    "# You should update the test set directory in the \"test.py\" file.\n",
    "!find /workspace/datasets -type d -name \"*ipynb*\" -exec rm -r {} +\n",
    "!python test.py \\\n",
    "--model_path /workspace/model_vit_base_patch16_224_best_4-df93.pth  \\\n",
    "--num_thread 4 \\\n",
    "--batch_size 32"
   ]
  },
  {
   "cell_type": "code",
   "execution_count": null,
   "metadata": {},
   "outputs": [],
   "source": [
    "# You should update the test set directory in the \"test.py\" file.\n",
    "!find /workspace/datasets -type d -name \"*ipynb*\" -exec rm -r {} +\n",
    "!python test.py \\\n",
    "--model_path /workspace/model_vit_base_patch16_224_best_4-df93.pth  \\\n",
    "--num_thread 4 \\\n",
    "--batch_size 32"
   ]
  }
 ],
 "metadata": {
  "accelerator": "GPU",
  "colab": {
   "collapsed_sections": [
    "ZiHwX8vIN8xm"
   ],
   "gpuType": "T4",
   "provenance": []
  },
  "kernelspec": {
   "display_name": "Python 3 (ipykernel)",
   "language": "python",
   "name": "python3"
  },
  "language_info": {
   "codemirror_mode": {
    "name": "ipython",
    "version": 3
   },
   "file_extension": ".py",
   "mimetype": "text/x-python",
   "name": "python",
   "nbconvert_exporter": "python",
   "pygments_lexer": "ipython3",
   "version": "3.10.13"
  }
 },
 "nbformat": 4,
 "nbformat_minor": 4
}
