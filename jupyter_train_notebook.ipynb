{
 "cells": [
  {
   "cell_type": "markdown",
   "metadata": {
    "id": "4bsPZQKgE3tX"
   },
   "source": [
    "## AIGCDetectBenchmark\n"
   ]
  },
  {
   "cell_type": "markdown",
   "metadata": {
    "id": "ZiHwX8vIN8xm"
   },
   "source": [
    "## Install requirement"
   ]
  },
  {
   "cell_type": "code",
   "execution_count": null,
   "metadata": {
    "colab": {
     "base_uri": "https://localhost:8080/"
    },
    "id": "zedAZuw9N8xo",
    "outputId": "326bfcb1-2cf6-4527-c670-df89d7040a0f"
   },
   "outputs": [],
   "source": [
    "!git clone https://github.com/vohoaidanh/ADOF.git"
   ]
  },
  {
   "cell_type": "code",
   "execution_count": null,
   "metadata": {
    "id": "diL52UgAPQSZ"
   },
   "outputs": [],
   "source": [
    "%cd ADOF"
   ]
  },
  {
   "cell_type": "code",
   "execution_count": null,
   "metadata": {},
   "outputs": [],
   "source": [
    "!git checkout exp/backbones"
   ]
  },
  {
   "cell_type": "code",
   "execution_count": null,
   "metadata": {
    "scrolled": true
   },
   "outputs": [],
   "source": [
    "!pip install gdown -q"
   ]
  },
  {
   "cell_type": "code",
   "execution_count": null,
   "metadata": {
    "id": "yZtRWDeMing8",
    "scrolled": true
   },
   "outputs": [],
   "source": [
    "#!pip install -r requirements.txt\n",
    "#!pip install tensorboardX -q\n"
   ]
  },
  {
   "cell_type": "code",
   "execution_count": null,
   "metadata": {
    "id": "zETSn3yrN8xq",
    "scrolled": true
   },
   "outputs": [],
   "source": [
    "# Without google colab\n",
    "!apt-get install -y unzip -q\n",
    "!apt-get install -y zip -q\n",
    "!pip install tensorboardX -q\n",
    "!pip install regex -q\n",
    "!pip install imageio -q\n",
    "!pip install opencv-python -q\n",
    "!apt-get install -y libgl1-mesa-glx -q\n",
    "!pip install scikit-learn -q\n",
    "!pip install scikit-image -q\n",
    "!pip install ftfy -q\n",
    "!pip install natsort -q\n",
    "!pip install blobfile -q\n",
    "!pip install timm -q\n",
    "!pip install comet_ml -q"
   ]
  },
  {
   "cell_type": "markdown",
   "metadata": {
    "id": "5zY128DjN8xt"
   },
   "source": [
    "## Train"
   ]
  },
  {
   "cell_type": "code",
   "execution_count": null,
   "metadata": {
    "colab": {
     "base_uri": "https://localhost:8080/"
    },
    "id": "0tTnMSRWN8xu",
    "outputId": "d434bede-473d-4c9d-ecfe-a577a444be70",
    "scrolled": true
   },
   "outputs": [],
   "source": [
    "#experiment-01-no-filter\n",
    "backbone = 'resnet18'\n",
    "!find /workspace/datasets -type d -name \"*ipynb*\" -exec rm -r {} +\n",
    "!python train.py \\\n",
    "--name adof-$backbone- \\\n",
    "--dataroot /workspace/datasets/ForenSynths_train \\\n",
    "--num_thread 8 \\\n",
    "--classes car,cat,chair,horse --batch_size 64 --delr_freq 5 --loss_freq 400  --lr 0.0002 --niter 30 \\\n",
    "--backbone $backbone \\\n",
    "--gpu_ids 0 \\\n",
    "--use_comet\n",
    " "
   ]
  },
  {
   "cell_type": "code",
   "execution_count": null,
   "metadata": {},
   "outputs": [],
   "source": [
    "#Continue Train\n",
    "backbone = 'resnet18'\n",
    "!find /workspace/datasets -type d -name \"*ipynb*\" -exec rm -r {} +\n",
    "!python train.py \\\n",
    "--name adof-$backbone- \\\n",
    "--dataroot /workspace/datasets/ForenSynths_train \\\n",
    "--num_thread 8 \\\n",
    "--classes car,cat,chair,horse --batch_size 64 --delr_freq 5 --loss_freq 400  --lr 0.0002 --niter 30 \\\n",
    "--backbone $backbone \\\n",
    "--gpu_ids 0 \\\n",
    "--continue_train \\\n",
    "--epoch last \\\n",
    "--old_checkpoint checkpoints/adof-adof-2024_10_09_06_01_23/model_epoch_last.pth\n",
    " "
   ]
  },
  {
   "cell_type": "markdown",
   "metadata": {
    "id": "KFlXRww3Pk8G"
   },
   "source": [
    "## Download Data"
   ]
  },
  {
   "cell_type": "code",
   "execution_count": null,
   "metadata": {
    "id": "MHqGlQRbQNE3"
   },
   "outputs": [],
   "source": [
    "#Download Train, val set\n",
    "import gdown\n",
    "file_id = '1JBDx2BPVSoADxhLFMJpd8zSFQyD_SVvI' #Progan train/val 4 class [car, cat, chair, horse] 13Gb\n",
    "#file_id = '1cyGbozooewAt6pNH9gw2_sDMM-Locqh2' #Progan train/val 4 class [car, cat, chair, horse]\n",
    "destination = '/workspace/Progan_train.zip'  # Desired file name and extension\n",
    "# Construct the download URL\n",
    "url = f'https://drive.google.com/uc?id={file_id}'\n",
    "# Download the file\n",
    "gdown.download(url, destination, quiet=False)\n",
    "#Unzip\n",
    "!mkdir /workspace/datasets\n",
    "!unzip -q $destination -d /workspace/datasets/ForenSynths_train"
   ]
  },
  {
   "cell_type": "code",
   "execution_count": null,
   "metadata": {
    "id": "YEJ2C7IoQ5co"
   },
   "outputs": [],
   "source": [
    "#Download small Test set (this is a small testset just use for reference during training)\n",
    "import gdown\n",
    "file_id = '1-02FPvdTaQFDMatEvXAeKLCmnwW6RLx4' #test_set 1.57Gb\n",
    "destination = '/workspace/test_set.zip'  # Desired file name and extension\n",
    "# Construct the download URL\n",
    "url = f'https://drive.google.com/uc?id={file_id}'\n",
    "# Download the file\n",
    "gdown.download(url, destination, quiet=False)\n",
    "#Unzip\n",
    "!mkdir /workspace/datasets\n",
    "!mkdir /workspace/datasets/ForenSynths_train\n",
    "!unzip -q $destination -d /workspace/datasets/ForenSynths_train/test"
   ]
  }
 ],
 "metadata": {
  "accelerator": "GPU",
  "colab": {
   "collapsed_sections": [
    "ZiHwX8vIN8xm"
   ],
   "gpuType": "T4",
   "provenance": []
  },
  "kernelspec": {
   "display_name": "Python 3 (Spyder)",
   "language": "python3",
   "name": "python3"
  },
  "language_info": {
   "codemirror_mode": {
    "name": "ipython",
    "version": 3
   },
   "file_extension": ".py",
   "mimetype": "text/x-python",
   "name": "python",
   "nbconvert_exporter": "python",
   "pygments_lexer": "ipython3",
   "version": "3.10.13"
  }
 },
 "nbformat": 4,
 "nbformat_minor": 4
}
