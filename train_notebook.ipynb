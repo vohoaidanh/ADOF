{
 "cells": [
  {
   "cell_type": "markdown",
   "metadata": {
    "id": "4bsPZQKgE3tX"
   },
   "source": [
    "## AIGCDetectBenchmark\n"
   ]
  },
  {
   "cell_type": "markdown",
   "metadata": {
    "id": "ZiHwX8vIN8xm"
   },
   "source": [
    "## Install requirement"
   ]
  },
  {
   "cell_type": "code",
   "execution_count": 2,
   "metadata": {
    "colab": {
     "base_uri": "https://localhost:8080/"
    },
    "id": "zedAZuw9N8xo",
    "outputId": "326bfcb1-2cf6-4527-c670-df89d7040a0f"
   },
   "outputs": [
    {
     "name": "stdout",
     "output_type": "stream",
     "text": [
      "Cloning into 'ADOF'...\n",
      "remote: Enumerating objects: 191, done.\u001b[K\n",
      "remote: Counting objects: 100% (191/191), done.\u001b[K\n",
      "remote: Compressing objects: 100% (106/106), done.\u001b[K\n",
      "remote: Total 191 (delta 82), reused 184 (delta 78), pack-reused 0 (from 0)\u001b[K\n",
      "Receiving objects: 100% (191/191), 27.94 MiB | 14.99 MiB/s, done.\n",
      "Resolving deltas: 100% (82/82), done.\n"
     ]
    }
   ],
   "source": [
    "!git clone https://github.com/vohoaidanh/ADOF.git"
   ]
  },
  {
   "cell_type": "code",
   "execution_count": null,
   "metadata": {
    "id": "diL52UgAPQSZ"
   },
   "outputs": [],
   "source": [
    "%cd ADOF\n",
    "#!git checkout exp/thay_nghia"
   ]
  },
  {
   "cell_type": "code",
   "execution_count": null,
   "metadata": {
    "id": "yZtRWDeMing8",
    "scrolled": true
   },
   "outputs": [],
   "source": [
    "!pip install -r requirements.txt\n",
    "!pip install tensorboardX -q\n"
   ]
  },
  {
   "cell_type": "code",
   "execution_count": null,
   "metadata": {
    "id": "zETSn3yrN8xq",
    "scrolled": true
   },
   "outputs": [],
   "source": [
    "# Without google colab\n",
    "!pip install gdown -q\n",
    "!apt-get install -y unzip -q\n",
    "!apt-get install -y zip -q\n",
    "!pip install tensorboardX -q\n",
    "!pip install regex -q\n",
    "!pip install imageio -q\n",
    "!pip install opencv-python -q\n",
    "!apt-get install -y libgl1-mesa-glx -q\n",
    "!pip install scikit-learn -q\n",
    "!pip install scikit-image -q\n",
    "!pip install ftfy -q\n",
    "!pip install natsort -q\n",
    "!pip install blobfile -q"
   ]
  },
  {
   "cell_type": "markdown",
   "metadata": {
    "id": "KFlXRww3Pk8G"
   },
   "source": [
    "## Download Data"
   ]
  },
  {
   "cell_type": "code",
   "execution_count": null,
   "metadata": {
    "id": "MHqGlQRbQNE3"
   },
   "outputs": [],
   "source": [
    "#Download Train, val set\n",
    "import gdown\n",
    "file_id = '1xHhCcCWtv57tnlAKh5sLSofuzcZcFfsP' #Progan train/val 4 class [car, cat, chair, horse]\n",
    "#file_id = '1cyGbozooewAt6pNH9gw2_sDMM-Locqh2' #Progan train/val 4 class [car, cat, chair, horse]\n",
    "destination = '/content/Progan_train.zip'  # Desired file name and extension\n",
    "# Construct the download URL\n",
    "url = f'https://drive.google.com/uc?id={file_id}'\n",
    "# Download the file\n",
    "gdown.download(url, destination, quiet=False)\n",
    "#Unzip\n",
    "!mkdir /content/datasets\n",
    "!unzip -q $destination -d /content/datasets/ForenSynths_train"
   ]
  },
  {
   "cell_type": "code",
   "execution_count": null,
   "metadata": {
    "id": "YEJ2C7IoQ5co"
   },
   "outputs": [],
   "source": [
    "#Download small Test set (this is a small testset just use for reference during training)\n",
    "import gdown\n",
    "file_id = '1-02FPvdTaQFDMatEvXAeKLCmnwW6RLx4' #test_set\n",
    "destination = '/content/test_set.zip'  # Desired file name and extension\n",
    "# Construct the download URL\n",
    "url = f'https://drive.google.com/uc?id={file_id}'\n",
    "# Download the file\n",
    "gdown.download(url, destination, quiet=False)\n",
    "#Unzip\n",
    "!mkdir /content/datasets\n",
    "!unzip -q $destination -d /content/datasets/ForenSynths_train/test"
   ]
  },
  {
   "cell_type": "markdown",
   "metadata": {
    "id": "5zY128DjN8xt"
   },
   "source": [
    "## Train"
   ]
  },
  {
   "cell_type": "code",
   "execution_count": null,
   "metadata": {
    "colab": {
     "base_uri": "https://localhost:8080/"
    },
    "id": "0tTnMSRWN8xu",
    "outputId": "d434bede-473d-4c9d-ecfe-a577a444be70"
   },
   "outputs": [
    {
     "name": "stdout",
     "output_type": "stream",
     "text": [
      "(4 cyclegan    ) acc: 87.3; ap: 90.5; r_acc: 0.8; f_acc: 1.0\n",
      "/usr/local/lib/python3.10/dist-packages/torch/utils/data/dataloader.py:558: UserWarning: This DataLoader will create 4 worker processes in total. Our suggested max number of worker in current system is 2, which is smaller than what this DataLoader is going to create. Please be aware that excessive worker creation might get DataLoader running slow or even freeze, lower the worker number to avoid potential slowness/freeze if necessary.\n",
      "  warnings.warn(_create_warning_msg(\n",
      "(5 stargan     ) acc: 93.8; ap: 99.3; r_acc: 1.0; f_acc: 0.9\n",
      "/usr/local/lib/python3.10/dist-packages/torch/utils/data/dataloader.py:558: UserWarning: This DataLoader will create 4 worker processes in total. Our suggested max number of worker in current system is 2, which is smaller than what this DataLoader is going to create. Please be aware that excessive worker creation might get DataLoader running slow or even freeze, lower the worker number to avoid potential slowness/freeze if necessary.\n",
      "  warnings.warn(_create_warning_msg(\n",
      "(6 gaugan      ) acc: 75.8; ap: 87.4; r_acc: 0.6; f_acc: 0.9\n",
      "/usr/local/lib/python3.10/dist-packages/torch/utils/data/dataloader.py:558: UserWarning: This DataLoader will create 4 worker processes in total. Our suggested max number of worker in current system is 2, which is smaller than what this DataLoader is going to create. Please be aware that excessive worker creation might get DataLoader running slow or even freeze, lower the worker number to avoid potential slowness/freeze if necessary.\n",
      "  warnings.warn(_create_warning_msg(\n",
      "(7 deepfake    ) acc: 50.2; ap: 66.4; r_acc: 1.0; f_acc: 0.0\n",
      "(8 Mean      ) acc: 78.2; ap: 89.1\n",
      "*************************\n",
      "2024_08_22_04_44_07\n",
      "/usr/local/lib/python3.10/dist-packages/torch/utils/data/dataloader.py:558: UserWarning: This DataLoader will create 4 worker processes in total. Our suggested max number of worker in current system is 2, which is smaller than what this DataLoader is going to create. Please be aware that excessive worker creation might get DataLoader running slow or even freeze, lower the worker number to avoid potential slowness/freeze if necessary.\n",
      "  warnings.warn(_create_warning_msg(\n"
     ]
    }
   ],
   "source": [
    "#experiment-01-no-filter\n",
    "!find /content -type d -name \"*ipynb*\" -exec rm -r {} +\n",
    "!python train.py \\\n",
    "--name adof-progan_earthquakes_test_on_urban- \\\n",
    "--dataroot /content/progan_earthquakes_test_on_urban \\\n",
    "--num_thread 2 \\\n",
    "--batch_size 64 --delr_freq 5 --lr 0.0002 --niter 30 --jpg_qual 95 --jpg_prob 1.0"
   ]
  },
  {
   "cell_type": "markdown",
   "metadata": {
    "id": "TW0ofv3qTkZa"
   },
   "source": [
    "## Evaluation"
   ]
  },
  {
   "cell_type": "code",
   "execution_count": null,
   "metadata": {
    "id": "wD2QXOfFTjZQ"
   },
   "outputs": [],
   "source": [
    "# You should update the test set directory in the \"test.py\" file.\n",
    "!find /content/datasets -type d -name \"*ipynb*\" -exec rm -r {} +\n",
    "!python test.py \\\n",
    "--model_path ./weights/ADOF_model_epoch_9.pth  \\\n",
    "--num_thread 4 \\\n",
    "--batch_size 32"
   ]
  },
  {
   "cell_type": "code",
   "execution_count": null,
   "metadata": {},
   "outputs": [],
   "source": []
  },
  {
   "cell_type": "code",
   "execution_count": null,
   "metadata": {},
   "outputs": [],
   "source": []
  }
 ],
 "metadata": {
  "accelerator": "GPU",
  "colab": {
   "collapsed_sections": [
    "ZiHwX8vIN8xm"
   ],
   "gpuType": "T4",
   "provenance": []
  },
  "kernelspec": {
   "display_name": "Python 3 (Spyder)",
   "language": "python3",
   "name": "python3"
  },
  "language_info": {
   "codemirror_mode": {
    "name": "ipython",
    "version": 3
   },
   "file_extension": ".py",
   "mimetype": "text/x-python",
   "name": "python",
   "nbconvert_exporter": "python",
   "pygments_lexer": "ipython3",
   "version": "3.10.13"
  }
 },
 "nbformat": 4,
 "nbformat_minor": 4
}
