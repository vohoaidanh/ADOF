{
 "cells": [
  {
   "cell_type": "code",
   "execution_count": 1,
   "id": "89052483-e046-4b80-97ab-2915e10093f5",
   "metadata": {},
   "outputs": [],
   "source": [
    "!mkdir /workspace/datasets\n",
    "!mkdir /workspace/datasets/ForenSynths_train\n",
    "!mkdir /workspace/datasets/ForenSynths_train/test"
   ]
  },
  {
   "cell_type": "code",
   "execution_count": 2,
   "id": "d9c8846f-4056-4748-8953-c05526c29f14",
   "metadata": {},
   "outputs": [],
   "source": [
    "!unzip -qq /workspace/ForenSynths_train_val2.zip -d /workspace/datasets/ForenSynths_train"
   ]
  },
  {
   "cell_type": "code",
   "execution_count": 3,
   "id": "cc4f8001-b17c-4fad-8e18-c0dbc3405347",
   "metadata": {},
   "outputs": [],
   "source": [
    "!unzip -qq /workspace/progan_20classes_testset.zip -d /workspace/datasets/ForenSynths_train/test"
   ]
  },
  {
   "cell_type": "code",
   "execution_count": 19,
   "id": "b68824fa-b92c-44c4-827e-c3db39eea4ee",
   "metadata": {},
   "outputs": [],
   "source": [
    "!cp -r /workspace/datasets/ForenSynths_train/train/horse/1_fake -d /workspace/datasets/ForenSynths_train/train/car"
   ]
  },
  {
   "cell_type": "code",
   "execution_count": null,
   "id": "11a22c6c-5202-4d13-9d31-0fdf9ee0bb24",
   "metadata": {},
   "outputs": [],
   "source": []
  }
 ],
 "metadata": {
  "kernelspec": {
   "display_name": "Python 3 (ipykernel)",
   "language": "python",
   "name": "python3"
  },
  "language_info": {
   "codemirror_mode": {
    "name": "ipython",
    "version": 3
   },
   "file_extension": ".py",
   "mimetype": "text/x-python",
   "name": "python",
   "nbconvert_exporter": "python",
   "pygments_lexer": "ipython3",
   "version": "3.10.13"
  }
 },
 "nbformat": 4,
 "nbformat_minor": 5
}
